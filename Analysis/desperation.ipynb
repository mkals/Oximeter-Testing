{
 "cells": [
  {
   "cell_type": "code",
   "execution_count": 11,
   "metadata": {},
   "outputs": [],
   "source": [
    "import numpy as np\n",
    "import scipy.io\n",
    "import seaborn as sns\n",
    "\n",
    "from matplotlib import animation\n",
    "import matplotlib.pyplot as plt\n",
    "import seaborn as sns # named from Samuel Norman \"Sam\" Seaborn is a fictional character portrayed by Rob Lowe on the television serial drama The West Wing.\n",
    "import pandas as pd\n",
    "import os\n",
    "\n",
    "directory = '/Users/mkals/data/OximeterTestingData/Logs'\n",
    "\n",
    "def severinghaus(x):\n",
    "    if x == 0:\n",
    "        return 0\n",
    "    return ((((x**3+150*x)**-1 * 23400)+1)**-1) * 100\n",
    "\n",
    "# data: full list to be processed\n",
    "# splits: numeber of consecutive elements to be processed\n",
    "# func: lambda function that takes the subset and returns what should be stored in return array\n",
    "def map_reduce(data, splits, func):\n",
    "    data = list(data)\n",
    "    return [func(data[i:i + splits]) for i in range(len(data) - splits + 1)]\n",
    "\n",
    "def plot_pressure(df, new=True):\n",
    "    if new:\n",
    "        plt.figure()\n",
    "\n",
    "    title = 'pressure'\n",
    "    #df.drop(df.iloc[:1000,:].index.tolist(), inplace=True)\n",
    "    plt.plot(df.utc_time, df.p)\n",
    "    plt.title(title)\n",
    "    plt.xlabel('Time')\n",
    "    plt.ylabel('Pressure (atm)')\n",
    "\n",
    "def plot_processed(df, new=True):\n",
    "    if new:\n",
    "        plt.figure()\n",
    "\n",
    "    title = 'processed'\n",
    "    #df.drop(df.iloc[:1000,:].index.tolist(), inplace=True)\n",
    "    plt.plot(df.utc_time, df.red_sig)\n",
    "    plt.plot(df.utc_time, df.ir_sig)\n",
    "    plt.title(title)\n",
    "    plt.xlabel('Time')\n",
    "    plt.ylabel('Signal')\n",
    "    plt.legend(['r', 'i'])\n",
    "\n",
    "def plot_raw(df, new=True):\n",
    "    if new:\n",
    "        plt.figure()\n",
    "\n",
    "    title = 'raw'\n",
    "    #df.drop(df.iloc[:1000,:].index.tolist(), inplace=True)\n",
    "    plt.plot(df.utc_time, df.r)\n",
    "    plt.plot(df.utc_time, df.i)\n",
    "    plt.title(title)\n",
    "    plt.xlabel('Time')\n",
    "    plt.ylabel('Signal')\n",
    "    plt.legend(['r', 'i'])\n",
    "\n",
    "\n",
    "\n",
    "def plot_bath_summary(df):\n",
    "\n",
    "    period = 2\n",
    "    mesurement_interval = (\n",
    "        df.utc_time.iloc[-1] - df.utc_time.iloc[0]) / df.shape[0]\n",
    "    point_count = int(period / mesurement_interval)\n",
    "\n",
    "    times = map_reduce(df['utc_time'], point_count, np.mean)\n",
    "    dc_r = map_reduce(df.r, point_count, np.mean)\n",
    "    dc_i = map_reduce(df.i, point_count, np.mean)\n",
    "    ac_r = map_reduce(df.r, point_count, (lambda x: max(x) - min(x)))\n",
    "    ac_i = map_reduce(df.i, point_count, (lambda x: max(x) - min(x)))\n",
    "\n",
    "    dc_r_mean = np.mean(dc_r)\n",
    "    dc_i_mean = np.mean(dc_i)\n",
    "    ac_r_mean = np.mean(ac_r)\n",
    "    ac_i_mean = np.mean(ac_i)\n",
    "\n",
    "    print(f'DC Red = {dc_r_mean:.0f}')\n",
    "    print(f'DC IR  = {dc_i_mean:.0f}')\n",
    "    print(f'AC Red = {ac_r_mean:.0f}')\n",
    "    print(f'AC IR  = {ac_i_mean:.0f}')\n",
    "\n",
    "    f, (ax1, ax2) = plt.subplots(1, 2)  # , sharey=True)\n",
    "\n",
    "    # DC PLOT\n",
    "    ax1.plot(df.utc_time, df.r)\n",
    "    ax1.plot(df.utc_time, df.i)\n",
    "    ax1.plot(times, dc_r, '-')\n",
    "    ax1.plot(times, dc_i, '-')\n",
    "    ax1.axhline(dc_r_mean)\n",
    "    ax1.axhline(dc_i_mean)\n",
    "\n",
    "    ax1.set_title('DC Bath Data')\n",
    "    ax1.set_xlabel('Time')\n",
    "    ax1.set_ylabel('Signal')\n",
    "    ax1.legend(['r', 'i', 'r ra', 'i ra', 'r mean', 'i mean'])\n",
    "\n",
    "    # AC PLOT\n",
    "    ax2.plot(times, ac_r)\n",
    "    ax2.plot(times, ac_i)\n",
    "    ax2.axhline(ac_r_mean)\n",
    "    ax2.axhline(ac_i_mean)\n",
    "\n",
    "    ax2.set_title('AC')\n",
    "    ax2.set_xlabel('Time')\n",
    "    ax2.set_ylabel('Signal')\n",
    "    ax2.legend(['r', 'i', 'r mean', 'i mean'])\n",
    "\n",
    "    plt.figure()\n",
    "    plt.plot(df.utc_time, df.SPO2)\n",
    "    plt.plot(df.utc_time, df.SPO2Avg)\n",
    "    plt.xlabel('Time')\n",
    "    plt.ylabel('SpO2 %')\n",
    "\n",
    "    plt.show()"
   ]
  },
  {
   "cell_type": "code",
   "execution_count": 25,
   "metadata": {},
   "outputs": [
    {
     "name": "stdout",
     "output_type": "stream",
     "text": [
      "/Users/mkals/data/OximeterTestingData/Logs/pressure_20210707_1701.csv\n"
     ]
    },
    {
     "ename": "IndexError",
     "evalue": "single positional indexer is out-of-bounds",
     "output_type": "error",
     "traceback": [
      "\u001b[0;31m---------------------------------------------------------------------------\u001b[0m",
      "\u001b[0;31mIndexError\u001b[0m                                Traceback (most recent call last)",
      "\u001b[0;32m<ipython-input-25-b9be61730902>\u001b[0m in \u001b[0;36m<module>\u001b[0;34m\u001b[0m\n\u001b[1;32m     11\u001b[0m \u001b[0;34m\u001b[0m\u001b[0m\n\u001b[1;32m     12\u001b[0m \u001b[0mplot_pressure\u001b[0m\u001b[0;34m(\u001b[0m\u001b[0mp_dfs\u001b[0m\u001b[0;34m[\u001b[0m\u001b[0;34m-\u001b[0m\u001b[0;36m1\u001b[0m\u001b[0;34m]\u001b[0m\u001b[0;34m)\u001b[0m\u001b[0;34m\u001b[0m\u001b[0;34m\u001b[0m\u001b[0m\n\u001b[0;32m---> 13\u001b[0;31m \u001b[0mplot_bath_summary\u001b[0m\u001b[0;34m(\u001b[0m\u001b[0mb_dfs\u001b[0m\u001b[0;34m[\u001b[0m\u001b[0;34m-\u001b[0m\u001b[0;36m1\u001b[0m\u001b[0;34m]\u001b[0m\u001b[0;34m)\u001b[0m\u001b[0;34m\u001b[0m\u001b[0;34m\u001b[0m\u001b[0m\n\u001b[0m",
      "\u001b[0;32m<ipython-input-11-8a6ea81f2367>\u001b[0m in \u001b[0;36mplot_bath_summary\u001b[0;34m(df)\u001b[0m\n\u001b[1;32m     66\u001b[0m     \u001b[0mperiod\u001b[0m \u001b[0;34m=\u001b[0m \u001b[0;36m2\u001b[0m\u001b[0;34m\u001b[0m\u001b[0;34m\u001b[0m\u001b[0m\n\u001b[1;32m     67\u001b[0m     mesurement_interval = (\n\u001b[0;32m---> 68\u001b[0;31m         df.utc_time.iloc[-1] - df.utc_time.iloc[0]) / df.shape[0]\n\u001b[0m\u001b[1;32m     69\u001b[0m     \u001b[0mpoint_count\u001b[0m \u001b[0;34m=\u001b[0m \u001b[0mint\u001b[0m\u001b[0;34m(\u001b[0m\u001b[0mperiod\u001b[0m \u001b[0;34m/\u001b[0m \u001b[0mmesurement_interval\u001b[0m\u001b[0;34m)\u001b[0m\u001b[0;34m\u001b[0m\u001b[0;34m\u001b[0m\u001b[0m\n\u001b[1;32m     70\u001b[0m \u001b[0;34m\u001b[0m\u001b[0m\n",
      "\u001b[0;32m~/opt/miniconda3/envs/py38/lib/python3.8/site-packages/pandas/core/indexing.py\u001b[0m in \u001b[0;36m__getitem__\u001b[0;34m(self, key)\u001b[0m\n\u001b[1;32m    877\u001b[0m \u001b[0;34m\u001b[0m\u001b[0m\n\u001b[1;32m    878\u001b[0m             \u001b[0mmaybe_callable\u001b[0m \u001b[0;34m=\u001b[0m \u001b[0mcom\u001b[0m\u001b[0;34m.\u001b[0m\u001b[0mapply_if_callable\u001b[0m\u001b[0;34m(\u001b[0m\u001b[0mkey\u001b[0m\u001b[0;34m,\u001b[0m \u001b[0mself\u001b[0m\u001b[0;34m.\u001b[0m\u001b[0mobj\u001b[0m\u001b[0;34m)\u001b[0m\u001b[0;34m\u001b[0m\u001b[0;34m\u001b[0m\u001b[0m\n\u001b[0;32m--> 879\u001b[0;31m             \u001b[0;32mreturn\u001b[0m \u001b[0mself\u001b[0m\u001b[0;34m.\u001b[0m\u001b[0m_getitem_axis\u001b[0m\u001b[0;34m(\u001b[0m\u001b[0mmaybe_callable\u001b[0m\u001b[0;34m,\u001b[0m \u001b[0maxis\u001b[0m\u001b[0;34m=\u001b[0m\u001b[0maxis\u001b[0m\u001b[0;34m)\u001b[0m\u001b[0;34m\u001b[0m\u001b[0;34m\u001b[0m\u001b[0m\n\u001b[0m\u001b[1;32m    880\u001b[0m \u001b[0;34m\u001b[0m\u001b[0m\n\u001b[1;32m    881\u001b[0m     \u001b[0;32mdef\u001b[0m \u001b[0m_is_scalar_access\u001b[0m\u001b[0;34m(\u001b[0m\u001b[0mself\u001b[0m\u001b[0;34m,\u001b[0m \u001b[0mkey\u001b[0m\u001b[0;34m:\u001b[0m \u001b[0mTuple\u001b[0m\u001b[0;34m)\u001b[0m\u001b[0;34m:\u001b[0m\u001b[0;34m\u001b[0m\u001b[0;34m\u001b[0m\u001b[0m\n",
      "\u001b[0;32m~/opt/miniconda3/envs/py38/lib/python3.8/site-packages/pandas/core/indexing.py\u001b[0m in \u001b[0;36m_getitem_axis\u001b[0;34m(self, key, axis)\u001b[0m\n\u001b[1;32m   1494\u001b[0m \u001b[0;34m\u001b[0m\u001b[0m\n\u001b[1;32m   1495\u001b[0m             \u001b[0;31m# validate the location\u001b[0m\u001b[0;34m\u001b[0m\u001b[0;34m\u001b[0m\u001b[0;34m\u001b[0m\u001b[0m\n\u001b[0;32m-> 1496\u001b[0;31m             \u001b[0mself\u001b[0m\u001b[0;34m.\u001b[0m\u001b[0m_validate_integer\u001b[0m\u001b[0;34m(\u001b[0m\u001b[0mkey\u001b[0m\u001b[0;34m,\u001b[0m \u001b[0maxis\u001b[0m\u001b[0;34m)\u001b[0m\u001b[0;34m\u001b[0m\u001b[0;34m\u001b[0m\u001b[0m\n\u001b[0m\u001b[1;32m   1497\u001b[0m \u001b[0;34m\u001b[0m\u001b[0m\n\u001b[1;32m   1498\u001b[0m             \u001b[0;32mreturn\u001b[0m \u001b[0mself\u001b[0m\u001b[0;34m.\u001b[0m\u001b[0mobj\u001b[0m\u001b[0;34m.\u001b[0m\u001b[0m_ixs\u001b[0m\u001b[0;34m(\u001b[0m\u001b[0mkey\u001b[0m\u001b[0;34m,\u001b[0m \u001b[0maxis\u001b[0m\u001b[0;34m=\u001b[0m\u001b[0maxis\u001b[0m\u001b[0;34m)\u001b[0m\u001b[0;34m\u001b[0m\u001b[0;34m\u001b[0m\u001b[0m\n",
      "\u001b[0;32m~/opt/miniconda3/envs/py38/lib/python3.8/site-packages/pandas/core/indexing.py\u001b[0m in \u001b[0;36m_validate_integer\u001b[0;34m(self, key, axis)\u001b[0m\n\u001b[1;32m   1435\u001b[0m         \u001b[0mlen_axis\u001b[0m \u001b[0;34m=\u001b[0m \u001b[0mlen\u001b[0m\u001b[0;34m(\u001b[0m\u001b[0mself\u001b[0m\u001b[0;34m.\u001b[0m\u001b[0mobj\u001b[0m\u001b[0;34m.\u001b[0m\u001b[0m_get_axis\u001b[0m\u001b[0;34m(\u001b[0m\u001b[0maxis\u001b[0m\u001b[0;34m)\u001b[0m\u001b[0;34m)\u001b[0m\u001b[0;34m\u001b[0m\u001b[0;34m\u001b[0m\u001b[0m\n\u001b[1;32m   1436\u001b[0m         \u001b[0;32mif\u001b[0m \u001b[0mkey\u001b[0m \u001b[0;34m>=\u001b[0m \u001b[0mlen_axis\u001b[0m \u001b[0;32mor\u001b[0m \u001b[0mkey\u001b[0m \u001b[0;34m<\u001b[0m \u001b[0;34m-\u001b[0m\u001b[0mlen_axis\u001b[0m\u001b[0;34m:\u001b[0m\u001b[0;34m\u001b[0m\u001b[0;34m\u001b[0m\u001b[0m\n\u001b[0;32m-> 1437\u001b[0;31m             \u001b[0;32mraise\u001b[0m \u001b[0mIndexError\u001b[0m\u001b[0;34m(\u001b[0m\u001b[0;34m\"single positional indexer is out-of-bounds\"\u001b[0m\u001b[0;34m)\u001b[0m\u001b[0;34m\u001b[0m\u001b[0;34m\u001b[0m\u001b[0m\n\u001b[0m\u001b[1;32m   1438\u001b[0m \u001b[0;34m\u001b[0m\u001b[0m\n\u001b[1;32m   1439\u001b[0m     \u001b[0;31m# -------------------------------------------------------------------\u001b[0m\u001b[0;34m\u001b[0m\u001b[0;34m\u001b[0m\u001b[0;34m\u001b[0m\u001b[0m\n",
      "\u001b[0;31mIndexError\u001b[0m: single positional indexer is out-of-bounds"
     ]
    },
    {
     "data": {
      "image/png": "[encoded data removed]",
      "text/plain": [
       "<Figure size 432x288 with 1 Axes>"
      ]
     },
     "metadata": {
      "needs_background": "light"
     },
     "output_type": "display_data"
    }
   ],
   "source": [
    "# Load files from disk and plot latest\n",
    "\n",
    "fs = [f'{directory}/{f}' for f in os.listdir(director)]\n",
    "csv_files = [f for f in fs if '.csv' in f]\n",
    "csv_files.sort()\n",
    "print(csv_files[-1])\n",
    "\n",
    "b_dfs = [pd.read_csv(f) for f in csv_files if 'bath' in f]\n",
    "p_dfs = [pd.read_csv(f) for f in csv_files if 'pressure' in f]\n",
    "b_dfs[-1].drop(b_dfs[-1].iloc[:400,:].index.tolist(), inplace=True)\n",
    "\n",
    "plot_pressure(p_dfs[-1])\n",
    "plot_bath_summary(b_dfs[-1])"
   ]
  },
  {
   "cell_type": "code",
   "execution_count": 18,
   "metadata": {},
   "outputs": [
    {
     "data": {
      "text/plain": [
       "96.17528547669203"
      ]
     },
     "execution_count": 18,
     "metadata": {},
     "output_type": "execute_result"
    }
   ],
   "source": [
    "# data sets, bath oximeter, 3d printed white phantom P11 \n",
    "severinghaus(100) # /Users/mkals/data/OximeterTestingData/Logs/pressure_20210707_1550.csv\n",
    "severinghaus(38) # /Users/mkals/data/OximeterTestingData/Logs/pressure_20210707_1605.csv\n",
    "severinghaus(83.2) # \n",
    "\n",
    "#print(b_dfs[-1].head())"
   ]
  },
  {
   "cell_type": "code",
   "execution_count": 1,
   "metadata": {},
   "outputs": [
    {
     "ename": "NameError",
     "evalue": "name 'csv_files' is not defined",
     "output_type": "error",
     "traceback": [
      "\u001b[0;31m---------------------------------------------------------------------------\u001b[0m",
      "\u001b[0;31mNameError\u001b[0m                                 Traceback (most recent call last)",
      "\u001b[0;32m<ipython-input-1-172a10f3f19f>\u001b[0m in \u001b[0;36m<module>\u001b[0;34m\u001b[0m\n\u001b[1;32m     76\u001b[0m     \u001b[0mprint\u001b[0m\u001b[0;34m(\u001b[0m\u001b[0;34mf'{ac_i_mean=}'\u001b[0m\u001b[0;34m)\u001b[0m\u001b[0;34m\u001b[0m\u001b[0;34m\u001b[0m\u001b[0m\n\u001b[1;32m     77\u001b[0m \u001b[0;34m\u001b[0m\u001b[0m\n\u001b[0;32m---> 78\u001b[0;31m \u001b[0;32mfor\u001b[0m \u001b[0mf\u001b[0m \u001b[0;32min\u001b[0m \u001b[0mcsv_files\u001b[0m\u001b[0;34m[\u001b[0m\u001b[0;34m:\u001b[0m\u001b[0;36m3\u001b[0m\u001b[0;34m]\u001b[0m\u001b[0;34m:\u001b[0m\u001b[0;34m\u001b[0m\u001b[0;34m\u001b[0m\u001b[0m\n\u001b[0m\u001b[1;32m     79\u001b[0m     \u001b[0mprint_ac_dc\u001b[0m\u001b[0;34m(\u001b[0m\u001b[0mf\u001b[0m\u001b[0;34m)\u001b[0m\u001b[0;34m\u001b[0m\u001b[0;34m\u001b[0m\u001b[0m\n\u001b[1;32m     80\u001b[0m     \u001b[0mplt\u001b[0m\u001b[0;34m.\u001b[0m\u001b[0mfigure\u001b[0m\u001b[0;34m(\u001b[0m\u001b[0;34m)\u001b[0m\u001b[0;34m\u001b[0m\u001b[0;34m\u001b[0m\u001b[0m\n",
      "\u001b[0;31mNameError\u001b[0m: name 'csv_files' is not defined"
     ]
    }
   ],
   "source": [
    "def plot_processed(f):\n",
    "    title = f.split('/')[-1]\n",
    "    df = pd.read_csv(f)\n",
    "    #df.drop(df.iloc[:1000,:].index.tolist(), inplace=True)\n",
    "    plt.plot(df.utc_time, df.red_sig)\n",
    "    plt.plot(df.utc_time, df.ir_sig)\n",
    "    plt.title(title)\n",
    "    plt.xlabel('Time')\n",
    "    plt.ylabel('Signal')\n",
    "    plt.legend(['r', 'i'])\n",
    "\n",
    "def plot_raw(f):\n",
    "    title = f.split('/')[-1]\n",
    "    df = pd.read_csv(f)\n",
    "    #df.drop(df.iloc[:1000,:].index.tolist(), inplace=True)\n",
    "    plt.plot(df.utc_time, df.r)\n",
    "    plt.plot(df.utc_time, df.i)\n",
    "    plt.title(title)\n",
    "    plt.xlabel('Time')\n",
    "    plt.ylabel('Signal')\n",
    "    plt.legend(['r', 'i'])\n",
    "\n",
    "\n",
    "def plot_amplitude(f):\n",
    "    title = f.split('/')[-1]\n",
    "    df = pd.read_csv(f)\n",
    "    print(df.utc_time[0])\n",
    "    print(list(df.utc_time)[-1])\n",
    "    \n",
    "    period = 2\n",
    "    mesurement_interval = (df.utc_time.iloc[-1] - df.utc_time.iloc[0]) / df.shape[0]\n",
    "    point_count = int(period / mesurement_interval)\n",
    "\n",
    "    times = map_reduce(df['utc_time'], point_count, np.mean)\n",
    "    dc_r = map_reduce(df.r, point_count, np.mean)\n",
    "    dc_i = map_reduce(df.i, point_count, np.mean)\n",
    "    ac_r = map_reduce(df.r, point_count, (lambda x: max(x) - min(x)) )\n",
    "    ac_i = map_reduce(df.i, point_count, (lambda x: max(x) - min(x)) )\n",
    "\n",
    "    plt.plot(times, dc_r)\n",
    "    plt.plot(times, dc_i)\n",
    "    \n",
    "    plt.figure()\n",
    "    plt.title('AC')\n",
    "    plt.plot(times, ac_r)\n",
    "    plt.plot(times, ac_i)\n",
    "\n",
    "def print_ac_dc(f, period = 2):\n",
    "\n",
    "    title = f.split('/')[-1]\n",
    "    df = pd.read_csv(f)\n",
    "\n",
    "    mesurement_interval = (df.utc_time.iloc[-1] - df.utc_time.iloc[0]) / df.shape[0]\n",
    "    point_count = int(period / mesurement_interval)\n",
    "\n",
    "    dc_r = map_reduce(df.r, point_count, np.mean)\n",
    "    dc_i = map_reduce(df.i, point_count, np.mean)\n",
    "    ac_r = map_reduce(df.r, point_count, (lambda x: max(x) - min(x)))\n",
    "    ac_i = map_reduce(df.i, point_count, (lambda x: max(x) - min(x)))\n",
    "\n",
    "    dc_r_mean = np.mean(dc_r)\n",
    "    dc_i_mean = np.mean(dc_i)\n",
    "    ac_r_mean = np.mean(ac_r)\n",
    "    ac_i_mean = np.mean(ac_i)\n",
    "\n",
    "    print(title)\n",
    "    print(f'{dc_r_mean=}')\n",
    "    print(f'{dc_i_mean=}')\n",
    "    print(f'{ac_r_mean=}')\n",
    "    print(f'{ac_i_mean=}')\n",
    "\n",
    "for f in csv_files[:3]:\n",
    "    print_ac_dc(f)\n",
    "    plt.figure()\n",
    "    plot_raw(f)\n",
    "    plot_amplitude(f)\n",
    "    plt.figure()\n",
    "    plot_processed(f)"
   ]
  },
  {
   "cell_type": "code",
   "execution_count": 27,
   "metadata": {},
   "outputs": [
    {
     "name": "stdout",
     "output_type": "stream",
     "text": [
      "        t     r1     i1       r2       i2\n",
      "name                                     \n",
      "14A2  0.4   7297   7664   8299.0   8679.0\n",
      "14B2  0.6   8769  10651  10726.0  11511.0\n",
      "14C2  0.8   7615   7503   7245.0   8235.0\n",
      "15A2  1.0   7101   6909   8167.0   8746.0\n",
      "15B2  1.2  13203  13308  12633.0  14013.0\n"
     ]
    },
    {
     "data": {
      "image/png": "[encoded data removed]",
      "text/plain": [
       "<Figure size 432x288 with 1 Axes>"
      ]
     },
     "metadata": {
      "needs_background": "light"
     },
     "output_type": "display_data"
    }
   ],
   "source": [
    "df = pd.read_csv('/Users/mkals/Developer/Cambridge/Oximeter Testing/Data/Logs/finger-transmission.csv', index_col=0)\n",
    "def plot_r_i(df):\n",
    "    plt.figure()\n",
    "    plt.title('Red')\n",
    "    plt.plot(df.t, df.r1, 'o')\n",
    "    plt.plot(df.t, df.i1, 'o')\n",
    "    plt.legend(['red', 'ir'])\n",
    "\n",
    "dfA = df#.filter(regex=r'.+B.', axis=0)\n",
    "print(dfA.head())\n",
    "plot_r_i(dfA)\n"
   ]
  }
 ],
 "metadata": {
  "interpreter": {
   "hash": "3549ee617d42eab560e40af7bb057677d97bb014f4b50cacd253ca6b08fa526d"
  },
  "kernelspec": {
   "display_name": "Python 3.8.5 64-bit ('py38': conda)",
   "name": "python3"
  },
  "language_info": {
   "codemirror_mode": {
    "name": "ipython",
    "version": 3
   },
   "file_extension": ".py",
   "mimetype": "text/x-python",
   "name": "python",
   "nbconvert_exporter": "python",
   "pygments_lexer": "ipython3",
   "version": "3.8.5"
  },
  "orig_nbformat": 4
 },
 "nbformat": 4,
 "nbformat_minor": 2
}